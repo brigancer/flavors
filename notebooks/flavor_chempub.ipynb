{
 "cells": [
  {
   "cell_type": "code",
   "execution_count": 1,
   "id": "e901c64d-8069-43cc-8c98-9d7234fc47d2",
   "metadata": {},
   "outputs": [],
   "source": [
    "import pandas as pd\n",
    "import pubchempy as pcp"
   ]
  },
  {
   "cell_type": "code",
   "execution_count": 2,
   "id": "fe295fbd-62d3-43b5-a348-f9de6ca17def",
   "metadata": {},
   "outputs": [],
   "source": [
    "chemical_6616 = pcp.Compound.from_cid(6616)"
   ]
  },
  {
   "cell_type": "code",
   "execution_count": 3,
   "id": "9865a218-ef00-4d75-9874-d986da8b4da4",
   "metadata": {},
   "outputs": [
    {
     "name": "stdout",
     "output_type": "stream",
     "text": [
      "2,2-dimethyl-3-methylidenebicyclo[2.2.1]heptane\n"
     ]
    }
   ],
   "source": [
    "print(chemical_6616.iupac_name)"
   ]
  },
  {
   "cell_type": "code",
   "execution_count": 4,
   "id": "fdff9b76-60ae-4c17-a9f4-4ebc0d6fbc64",
   "metadata": {},
   "outputs": [
    {
     "name": "stdout",
     "output_type": "stream",
     "text": [
      "['CAMPHENE', '79-92-5', 'Comphene', '2,2-Dimethyl-3-methylenenorbornane', '(+/-)-Camphene', 'DL-Camphene', '3,3-Dimethyl-2-methylenenorbornane', '3,3-Dimethyl-2-methylenenorcamphane', '2,2-dimethyl-3-methylidenebicyclo[2.2.1]heptane', 'FEMA No. 2229', '2,2-Dimethyl-3-methylenebicyclo[2.2.1]heptane', 'Bicyclo[2.2.1]heptane, 2,2-dimethyl-3-methylene-', 'CCRIS 3783', 'HSDB 900', 'NSC 4165', '3,3-Dimethyl-2-methylenenorcamphene', 'EINECS 201-234-8', 'EINECS 209-275-3', 'UNII-G3VG94Z26E', 'CHEBI:3830', 'G3VG94Z26E', 'DTXSID8026488', 'AI3-01775', 'CAMPHENE, DL-', 'NSC-4165', '2,2-Dimethyl-3-methylenebicyclo(2.2.1)heptane', 'Camphene (2,2-dimethyl-3-methylene-norbornane)', '565-00-4', 'Bicyclo(2.2.1)heptane, 2,2-dimethyl-3-methylene-', 'DTXCID006488', 'CAMPHENE, (+/-)-', 'Camphene, (1R,4S)-(+)-', 'EC 201-234-8', '(1)-2,2-Dimethyl-3-methylenebicyclo(2.2.1)heptane', 'CAMPHENE (MART.)', 'CAMPHENE [MART.]', 'Bicyclo[2.2.1]heptane, 2,2-dimethyl-3-methylene-, (1R)-', 'CAS-79-92-5', '2,2-dimethyl-3-methylidenebicyclo(2.2.1)heptane', 'MFCD00066603', '2,2-dimethyl-3-methylene-norbornane', 'CAMPHENE [FHFI]', 'CAMPHENE [HSDB]', 'CAMPHENE [FCC]', 'CAMPHENE [MI]', '2,2-Dimethyl-3-methylenebicyclo[2.2.1]heptane #', 'CAMPHENE, D,L-', '3,3-Dimethylenenorcamphene', 'CAMPHENE [WHO-DD]', 'Bicyclo-(2.2.1)heptane', '2,2-Dimethyl-3-methylene-', '3,3-dimethyl-2-methylidenebicyclo[2.2.1]heptane', 'CHEMBL2268550', '2,2-Dimethyl-3-methylenebicyclo', 'NSC4165', '2,2-Dimethyl-3-methylene-norborane', 'Tox21_202014', 'Tox21_303152', 'BBL033861', 'STK801857', 'AKOS004119935', 'CCG-266137', 'NCGC00249149-01', 'NCGC00257126-01', 'NCGC00259563-01', 'WLN: L55 A CYTJ CU1 D1 D1', 'VS-12317', '2,2-DIMETHYL-3-METHYLENE NORBORANE', 'DB-053130', 'DB-056393', 'DB-057848', 'NS00006622', '3,3-DIMETHYL-2-METHYLENE NORCAMPHANE', 'EN300-20391', '(1R,4S)-2,2-dimethyl-3-methylene-norbornane', 'C06076', 'E87135', 'Bicyclo[2.2.1]heptane,2-dimethyl-3-methylene-', 'Q416775', 'SR-01000944833', 'Bicyclo(2.2.1)heptane, 2,2-dimethyl-3-methylene', 'SR-01000944833-1', 'CAMPHENE(2,2-DIMETHYL-3-METHYLENE-NORBORNANE)', 'Z104478010']\n"
     ]
    }
   ],
   "source": [
    "print(chemical_6616.synonyms)"
   ]
  },
  {
   "cell_type": "code",
   "execution_count": 7,
   "id": "41c540ae-8da5-41d9-8e87-900a64054e93",
   "metadata": {},
   "outputs": [],
   "source": [
    "ammonia = pcp.get_compounds('ammonia', 'name')"
   ]
  },
  {
   "cell_type": "code",
   "execution_count": 8,
   "id": "b44c20b0-68a0-402e-b141-1a8fd7c54409",
   "metadata": {},
   "outputs": [
    {
     "data": {
      "text/plain": [
       "[Compound(222)]"
      ]
     },
     "execution_count": 8,
     "metadata": {},
     "output_type": "execute_result"
    }
   ],
   "source": [
    "ammonia"
   ]
  },
  {
   "cell_type": "code",
   "execution_count": null,
   "id": "a1194a77-da2c-4414-9f39-c70369949271",
   "metadata": {},
   "outputs": [],
   "source": [
    "camphene = pcp.get_compounds('camphene', 'name')\n",
    "camphene"
   ]
  },
  {
   "cell_type": "code",
   "execution_count": 9,
   "id": "1f1921e4-e943-492d-a7a5-cfaa5fb7f5e2",
   "metadata": {},
   "outputs": [],
   "source": [
    "ammonia_222 = pcp.Compound.from_cid(222)"
   ]
  },
  {
   "cell_type": "code",
   "execution_count": 10,
   "id": "f7c7da12-5c36-4a48-a45d-da06d965bfb1",
   "metadata": {},
   "outputs": [
    {
     "name": "stdout",
     "output_type": "stream",
     "text": [
      "['ammonia', 'azane', '7664-41-7', 'Ammonia gas', 'Nitro-sil', 'Ammonia anhydrous', 'Ammoniakgas', 'Ammonia, anhydrous', 'Ammoniak', 'AM-Fol', 'Anhydrous ammonia', 'Ammoniak Kconzentrierter', 'ammoniac', 'Aqueous ammonia', 'Liquid Ammonia', 'Caswell No. 041', 'Amoniak [Polish]', 'Ammoniac [French]', 'Ammoniak [German]', 'Refrigerent R717', 'amoniaco', 'Ammoniaca [Italian]', 'Ammoniaca', 'Amoniak', 'CCRIS 2278', 'HSDB 162', 'Ammonia (conc 20% or greater)', 'NH3', 'R 717 (ammonia)', 'EPA Pesticide Chemical Code 005302', 'Ammonia inhalant', 'Ammonium causticum', 'R 717', 'EINECS 231-635-3', 'UN1005', 'UNII-5138Q19F1X', 'CHEBI:16134', 'Ammonia, 7M in methanol', '5138Q19F1X', 'DTXSID0023872', 'EC 231-635-3', 'MFCD00011418', 'AMMONIA (II)', 'AMMONIA [II]', 'R-717', '(NH3)', '[NH3]', 'Ammonia; Ammonia solution concentrated', '8007-57-6', 'Ammonia (anhydrous)', 'Ammonia Standard: NH3 @ 10 microg/mL in H2O', 'Ammonia Standard: NH3 @ 100 microg/mL in H2O', 'Ammonia Standard: NH3 @ 1000 microg/mL in H2O', 'Ammonia Standard: NH3 @ 10000 microg/mL in H2O', 'Ammoniale', 'Inhalant', 'tertiaeres Amin', 'ammonia ca', 'primaeres Amin', 'Ammonia,aromatic', 'Ammoniacum gummi', 'Amoniaco anhidro', 'sekundaeres Amin', 'Ammonia Pad', 'Ammonia Inhalants', 'anyhydrous ammonia', 'AmmoniaSport RAW', 'NH4', 'Ammonia 2%', 'CONTEST Group D', '10 - Nutrients', 'AmmoniaSport SQUEEZE', '37 - Ammonia', 'Refrigerant gas 717', 'GO TIME', 'AMMONIA [VANDF]', 'Ammonia 7M in Methanol', 'S18 - MCerts', '60 - MCerts', 'Ammonia (8CI,9CI)', 'Ammonia water (JP15)', 'Aromatic ammonia vaporole', 'CONTEST Group B Full', 'AMMONIA [MI]', 'InChI=1/H3N/h1H', 'Ammonia, 2M in methanol', 'Dowex(R) 66 free base', 'AMMONIA [WHO-DD]', 'CONTEST Group B Reduced', 'Ammonia, 0.5M in THF', 'Aromatic Ammonia, Vaporole', 'AMMONIA, (ANHYDROUS)', '82168-61-4', 'Ammonia anhydrous, 99.98%', 'DTXCID803872', 'N H3', 'CHEMBL1160819', 'DTXSID40912315', 'DTXSID80420101', 'First Aid Only Ammonia Inhalants', 'IYQDUNKKQCFKJG-UHFFFAOYSA-N', 'MDFFNEOEWAXZRQ-UHFFFAOYSA-N', 'UCPKOFQHNMRORR-UHFFFAOYSA-N', 'UFNYKIJQJNNVKS-UHFFFAOYSA-N', 'XBPJHBIOSSFGCU-UHFFFAOYSA-N', 'ZBEYHISPVKPLHP-UHFFFAOYSA-N', 'DTXSID801029786', 'NH(3)', 'Ammonia, anhydrous, >=99.98%', 'ANHYDROUS AMMONIA, LIQUEFIED', 'AMMONIA, ANHYDROUS, LIQUEFIED', 'AKOS015916403', 'Ammonia anhydrous 170g Lecture bottle', 'Ammonia solution 1.0 M in isopropanol', 'NH3 as N: 1000microg/mL in H20', '17D - Ammonia, Phosphate and Nitrogen', 'AMMONIA (ANHYDROUS) (LIQUEFIED)', 'USEPA/OPP Pesticide Code: 005302', 'CVS Health First Aid Outdoor Prep-Pack', 'Ammonia, puriss., anhydrous, >=99.9%', '02H - Nutrients and Others - Hard Water', '02S - Nutrients and Others - Soft Water', 'Ammonia, puriss., anhydrous, >=99.95%', 'NS00013356', 'Q4087', 'C00014', 'D02916', 'Dowex(R) Marathon(TM) WBA free base, free base', 'Q4832241', 'Q6004010', 'Q27110025', '2HP - Nutrients and Others in hard, potable (treated) water', '2SP - Nutrients and Others in soft, potable (treated) water', 'StratoSpheres(TM) PL-AMS resin, 100-200 mesh, extent of labeling: ~1.0 mmol/g loading, 1 % cross-linked with divinylbenzene', 'StratoSpheres(TM) PL-AMS resin, 100-200 mesh, extent of labeling: 2.0 mmol/g loading, 1 % cross-linked', 'StratoSpheres(TM) PL-AMS resin, 30-40 mesh, extent of labeling: 1.0 mmol/g loading, 1 % cross-linked', 'StratoSpheres(TM) PL-AMS resin, 30-40 mesh, extent of labeling: 2.0 mmol/g loading, 1 % cross-linked', 'StratoSpheres(TM) PL-AMS resin, 50-100 mesh, extent of labeling: 2.0 mmol/g loading, 1 % cross-linked']\n"
     ]
    }
   ],
   "source": [
    "print(ammonia_222.synonyms)"
   ]
  },
  {
   "cell_type": "code",
   "execution_count": null,
   "id": "064495bc-ff73-41d4-89f6-8723a2f33ce1",
   "metadata": {},
   "outputs": [],
   "source": []
  }
 ],
 "metadata": {
  "kernelspec": {
   "display_name": "Python 3 (ipykernel)",
   "language": "python",
   "name": "python3"
  },
  "language_info": {
   "codemirror_mode": {
    "name": "ipython",
    "version": 3
   },
   "file_extension": ".py",
   "mimetype": "text/x-python",
   "name": "python",
   "nbconvert_exporter": "python",
   "pygments_lexer": "ipython3",
   "version": "3.10.13"
  }
 },
 "nbformat": 4,
 "nbformat_minor": 5
}
